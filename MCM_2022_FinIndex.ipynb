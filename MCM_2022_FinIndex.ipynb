{
 "cells": [
  {
   "cell_type": "code",
   "execution_count": 64,
   "metadata": {},
   "outputs": [],
   "source": [
    "import numpy as np\n",
    "import pandas as pd\n",
    "import talib as ta\n"
   ]
  },
  {
   "cell_type": "code",
   "execution_count": 49,
   "metadata": {},
   "outputs": [],
   "source": [
    "df_all = pd.read_csv(\"Data/naive_prediction_data.csv\")"
   ]
  },
  {
   "cell_type": "code",
   "execution_count": 50,
   "metadata": {},
   "outputs": [],
   "source": [
    "df_all[\"30-day Bitcoin SMA\"] = df_all['Value'].rolling(30).mean()\n",
    "df_all[\"30-day Gold SMA\"] = df_all['USD (PM)'].rolling(30).mean()\n"
   ]
  },
  {
   "cell_type": "code",
   "execution_count": 51,
   "metadata": {},
   "outputs": [],
   "source": [
    "df_all[\"30-day Bitcoin rolling standard deviation\"] = df_all['Value'].rolling(30).std()\n",
    "df_all[\"30-day Gold rolling standard deviation\"] = df_all['Value'].rolling(\n",
    "    30).std()\n"
   ]
  },
  {
   "cell_type": "code",
   "execution_count": 52,
   "metadata": {},
   "outputs": [],
   "source": [
    "df_all[\"30-day Bitcoin upper bolling bands\"] = df_all[\"30-day Bitcoin SMA\"] + \\\n",
    "    df_all[\"30-day Bitcoin rolling standard deviation\"] * 2\n",
    "df_all[\"30-day Bitcoin lower bolling bands\"] = df_all[\"30-day Bitcoin SMA\"] - \\\n",
    "    df_all[\"30-day Bitcoin rolling standard deviation\"] * 2\n",
    "df_all[\"30-day Gold upper bolling bands\"] = df_all[\"30-day Gold SMA\"] + \\\n",
    "    df_all[\"30-day Gold rolling standard deviation\"] * 2\n",
    "df_all[\"20-day Gold lower bolling bands\"] = df_all[\"30-day Gold SMA\"] - \\\n",
    "    df_all[\"30-day Gold rolling standard deviation\"] * 2\n"
   ]
  },
  {
   "cell_type": "code",
   "execution_count": 53,
   "metadata": {},
   "outputs": [],
   "source": [
    "def KAMA(price, n=10, pow1=2, pow2=30):\n",
    "    ''' kama indicator '''\n",
    "    ''' accepts pandas dataframe of prices '''\n",
    "\n",
    "    abs_diff = abs(price - price.shift(1))\n",
    "\n",
    "    ER_num = abs(price - price.shift(n))\n",
    "    ER_den = abs_diff.rolling(n).sum()\n",
    "    ER = ER_num / ER_den\n",
    "\n",
    "    sc = (ER * (2.0 / (pow1 + 1) - 2.0 / (pow2 + 1.0)) + 2 / (pow2 + 1.0)) ** 2.0\n",
    "\n",
    "    answer = np.zeros(sc.size)\n",
    "    N = len(answer)\n",
    "    first_value = True\n",
    "\n",
    "    for i in range(N):\n",
    "        if sc[i] != sc[i]:\n",
    "            answer[i] = np.nan\n",
    "        else:\n",
    "            if first_value:\n",
    "                answer[i] = price[i]\n",
    "                first_value = False\n",
    "            else:\n",
    "                answer[i] = answer[i - 1] + sc[i] * (price[i] - answer[i - 1])\n",
    "    return answer\n"
   ]
  },
  {
   "cell_type": "code",
   "execution_count": 54,
   "metadata": {},
   "outputs": [],
   "source": [
    "df_all[\"Bitcoin KAMA\"] = KAMA(df_all[\"Value\"])\n",
    "df_all[\"Gold KAMA\"] = KAMA(df_all[\"USD (PM)\"])"
   ]
  },
  {
   "cell_type": "code",
   "execution_count": 55,
   "metadata": {},
   "outputs": [],
   "source": [
    "def PSY(x):\n",
    "    return (x > 0).sum() / len(x)"
   ]
  },
  {
   "cell_type": "code",
   "execution_count": 56,
   "metadata": {},
   "outputs": [],
   "source": [
    "df_all[\"Bitcoin PSY\"] = df_all[\"Bitcoin % Change\"].rolling(30).apply(PSY)\n",
    "df_all[\"Gold PSY\"] = df_all[\"Gold % Change\"].rolling(30).apply(PSY)\n"
   ]
  },
  {
   "cell_type": "code",
   "execution_count": 57,
   "metadata": {},
   "outputs": [],
   "source": [
    "_, _, df_all[\"Bitcoin MACD Histogram\"] = ta.MACD(df_all[\"Value\"])\n",
    "_, _, df_all[\"Gold MACD Histogram\"] = ta.MACD(df_all[\"USD (PM)\"])\n"
   ]
  },
  {
   "cell_type": "code",
   "execution_count": 58,
   "metadata": {},
   "outputs": [],
   "source": [
    "df_all[\"Bitcoin Momentum\"] = ta.MOM(df_all[\"Value\"])\n",
    "df_all[\"Gold Momentum\"] = ta.MOM(df_all[\"USD (PM)\"])\n"
   ]
  },
  {
   "cell_type": "code",
   "execution_count": 59,
   "metadata": {},
   "outputs": [],
   "source": [
    "df_all[\"Bitcoin RSI\"] = ta.RSI(df_all[\"Value\"])\n",
    "df_all[\"Gold RSI\"] = ta.RSI(df_all[\"USD (PM)\"])\n"
   ]
  },
  {
   "cell_type": "code",
   "execution_count": 30,
   "metadata": {},
   "outputs": [],
   "source": [
    "# df_all[\"Bitcoin TRIX\"] = ta.TRIX(df_all[\"Value\"])\n",
    "# df_all[\"Gold TRIX\"] = ta.TRIX(df_all[\"USD (PM)\"])\n"
   ]
  },
  {
   "cell_type": "code",
   "execution_count": 60,
   "metadata": {},
   "outputs": [],
   "source": [
    "df_all['RAT'] = df_all['Value'] / df_all['USD (PM)'] * 100"
   ]
  },
  {
   "cell_type": "code",
   "execution_count": 63,
   "metadata": {},
   "outputs": [],
   "source": [
    "df_all.to_csv(\"Data/intermediate_data.csv\", index=False)"
   ]
  }
 ],
 "metadata": {
  "interpreter": {
   "hash": "397704579725e15f5c7cb49fe5f0341eb7531c82d19f2c29d197e8b64ab5776b"
  },
  "kernelspec": {
   "display_name": "Python 3.9.0 64-bit",
   "language": "python",
   "name": "python3"
  },
  "language_info": {
   "codemirror_mode": {
    "name": "ipython",
    "version": 3
   },
   "file_extension": ".py",
   "mimetype": "text/x-python",
   "name": "python",
   "nbconvert_exporter": "python",
   "pygments_lexer": "ipython3",
   "version": "3.9.0"
  },
  "orig_nbformat": 4
 },
 "nbformat": 4,
 "nbformat_minor": 2
}
