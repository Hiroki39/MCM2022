{
 "cells": [
  {
   "cell_type": "code",
   "execution_count": 18,
   "metadata": {},
   "outputs": [],
   "source": [
    "import xgboost as xgb\n",
    "import pandas as pd\n",
    "import matplotlib.pyplot as plt\n",
    "from sklearn.model_selection import train_test_split"
   ]
  },
  {
   "cell_type": "code",
   "execution_count": 19,
   "metadata": {},
   "outputs": [],
   "source": [
    "FORWARD_STEPS = [1, 3, 5, 10]"
   ]
  },
  {
   "cell_type": "code",
   "execution_count": 25,
   "metadata": {},
   "outputs": [],
   "source": [
    "df = pd.read_csv(\"Data/intermediate_data.csv\")"
   ]
  },
  {
   "cell_type": "code",
   "execution_count": 22,
   "metadata": {},
   "outputs": [],
   "source": [
    "df_clean = df.dropna()"
   ]
  },
  {
   "cell_type": "code",
   "execution_count": 21,
   "metadata": {},
   "outputs": [],
   "source": [
    "def get_model():\n",
    "\n",
    "    xgbparams = {\n",
    "        'eta': 0.01,\n",
    "        'booster': 'gbtree',\n",
    "        'subsample': 0.76,\n",
    "        'colsample_bytree': 0.6,\n",
    "        'min_child_weight': 1,\n",
    "        'n_estimators': 1000,\n",
    "        'lambda': 3,\n",
    "        'alpha': 0,\n",
    "        'gamma': 0,\n",
    "        'max_depth': 6,\n",
    "        'booster': 'gbtree',\n",
    "        'tree_method': 'gpu_hist',\n",
    "        'objective': 'reg:squarederror',\n",
    "    }\n",
    "\n",
    "    model = xgb.XGBRegressor(**xgbparams)\n",
    "\n",
    "    return model"
   ]
  },
  {
   "cell_type": "code",
   "execution_count": 23,
   "metadata": {},
   "outputs": [
    {
     "name": "stdout",
     "output_type": "stream",
     "text": [
      "[0]\tvalidation_0-rmse:0.49524\n",
      "[50]\tvalidation_0-rmse:0.30301\n",
      "[100]\tvalidation_0-rmse:0.18784\n",
      "[150]\tvalidation_0-rmse:0.12021\n",
      "[200]\tvalidation_0-rmse:0.08207\n",
      "[250]\tvalidation_0-rmse:0.06212\n",
      "[300]\tvalidation_0-rmse:0.05281\n",
      "[350]\tvalidation_0-rmse:0.04865\n",
      "[400]\tvalidation_0-rmse:0.04699\n",
      "[450]\tvalidation_0-rmse:0.04627\n",
      "[500]\tvalidation_0-rmse:0.04600\n",
      "[550]\tvalidation_0-rmse:0.04592\n",
      "[600]\tvalidation_0-rmse:0.04590\n",
      "[650]\tvalidation_0-rmse:0.04591\n",
      "[700]\tvalidation_0-rmse:0.04591\n",
      "[750]\tvalidation_0-rmse:0.04595\n",
      "[800]\tvalidation_0-rmse:0.04600\n",
      "[850]\tvalidation_0-rmse:0.04606\n",
      "[900]\tvalidation_0-rmse:0.04611\n",
      "[910]\tvalidation_0-rmse:0.04611\n",
      "[0]\tvalidation_0-rmse:0.49290\n",
      "[50]\tvalidation_0-rmse:0.30537\n",
      "[100]\tvalidation_0-rmse:0.19495\n",
      "[150]\tvalidation_0-rmse:0.13235\n",
      "[200]\tvalidation_0-rmse:0.09958\n",
      "[250]\tvalidation_0-rmse:0.08339\n",
      "[300]\tvalidation_0-rmse:0.07586\n",
      "[350]\tvalidation_0-rmse:0.07242\n",
      "[400]\tvalidation_0-rmse:0.07069\n",
      "[450]\tvalidation_0-rmse:0.06991\n",
      "[500]\tvalidation_0-rmse:0.06954\n",
      "[550]\tvalidation_0-rmse:0.06922\n",
      "[600]\tvalidation_0-rmse:0.06903\n",
      "[650]\tvalidation_0-rmse:0.06896\n",
      "[700]\tvalidation_0-rmse:0.06888\n",
      "[750]\tvalidation_0-rmse:0.06877\n",
      "[800]\tvalidation_0-rmse:0.06874\n",
      "[850]\tvalidation_0-rmse:0.06875\n",
      "[900]\tvalidation_0-rmse:0.06869\n",
      "[950]\tvalidation_0-rmse:0.06867\n",
      "[999]\tvalidation_0-rmse:0.06860\n",
      "[0]\tvalidation_0-rmse:0.48359\n",
      "[50]\tvalidation_0-rmse:0.30145\n",
      "[100]\tvalidation_0-rmse:0.19790\n",
      "[150]\tvalidation_0-rmse:0.14389\n",
      "[200]\tvalidation_0-rmse:0.11890\n",
      "[250]\tvalidation_0-rmse:0.10838\n",
      "[300]\tvalidation_0-rmse:0.10430\n",
      "[350]\tvalidation_0-rmse:0.10232\n",
      "[400]\tvalidation_0-rmse:0.10147\n",
      "[450]\tvalidation_0-rmse:0.10106\n",
      "[500]\tvalidation_0-rmse:0.10076\n",
      "[550]\tvalidation_0-rmse:0.10043\n",
      "[600]\tvalidation_0-rmse:0.10031\n",
      "[650]\tvalidation_0-rmse:0.10003\n",
      "[700]\tvalidation_0-rmse:0.09982\n",
      "[750]\tvalidation_0-rmse:0.09948\n",
      "[800]\tvalidation_0-rmse:0.09938\n",
      "[850]\tvalidation_0-rmse:0.09918\n",
      "[900]\tvalidation_0-rmse:0.09886\n",
      "[950]\tvalidation_0-rmse:0.09873\n",
      "[999]\tvalidation_0-rmse:0.09868\n",
      "[0]\tvalidation_0-rmse:0.47598\n",
      "[50]\tvalidation_0-rmse:0.30562\n",
      "[100]\tvalidation_0-rmse:0.21162\n",
      "[150]\tvalidation_0-rmse:0.16412\n",
      "[200]\tvalidation_0-rmse:0.14175\n",
      "[250]\tvalidation_0-rmse:0.13198\n",
      "[300]\tvalidation_0-rmse:0.12777\n",
      "[350]\tvalidation_0-rmse:0.12551\n",
      "[400]\tvalidation_0-rmse:0.12422\n",
      "[450]\tvalidation_0-rmse:0.12334\n",
      "[500]\tvalidation_0-rmse:0.12285\n",
      "[550]\tvalidation_0-rmse:0.12236\n",
      "[600]\tvalidation_0-rmse:0.12193\n",
      "[650]\tvalidation_0-rmse:0.12141\n",
      "[700]\tvalidation_0-rmse:0.12098\n",
      "[750]\tvalidation_0-rmse:0.12068\n",
      "[800]\tvalidation_0-rmse:0.12022\n",
      "[850]\tvalidation_0-rmse:0.12008\n",
      "[900]\tvalidation_0-rmse:0.11972\n",
      "[950]\tvalidation_0-rmse:0.11963\n",
      "[999]\tvalidation_0-rmse:0.11942\n"
     ]
    }
   ],
   "source": [
    "for forward_step in FORWARD_STEPS:\n",
    "\n",
    "    X = df_clean[[\"Bitcoin % Change\", \"Gold % Change\",\n",
    "                  f\"Bitcoin % Naive Prediction ({forward_step} Days)\",\n",
    "                  \"30-day Bitcoin rolling standard deviation\",\n",
    "                  \"Bitcoin PSY\",\n",
    "                  \"Bitcoin RSI\"]].iloc[:-forward_step, :].copy()\n",
    "    y = df_clean[\"Value\"][forward_step:].values / df_clean[\"Value\"][:-forward_step].values - 1\n",
    "\n",
    "    X_train, X_val, y_train, y_val = train_test_split(X, y, test_size=0.25)\n",
    "\n",
    "    model = get_model()\n",
    "\n",
    "    model.fit(X_train, y_train,\n",
    "              eval_metric=\"rmse\", \n",
    "              eval_set=[(X_val, y_val)],\n",
    "              early_stopping_rounds=300,\n",
    "              verbose=50)\n",
    "\n",
    "    df[f\"Bitcoin % Final Prediction ({forward_step} Days)\"] = pd.Series(model.predict(df_clean[X.columns]), index=df_clean.index)"
   ]
  },
  {
   "cell_type": "code",
   "execution_count": 24,
   "metadata": {},
   "outputs": [],
   "source": [
    "df.to_csv(\"Data/final_prediction.csv\", index=False)"
   ]
  }
 ],
 "metadata": {
  "interpreter": {
   "hash": "40d3a090f54c6569ab1632332b64b2c03c39dcf918b08424e98f38b5ae0af88f"
  },
  "kernelspec": {
   "display_name": "Python 3.8.12 ('base')",
   "language": "python",
   "name": "python3"
  },
  "language_info": {
   "codemirror_mode": {
    "name": "ipython",
    "version": 3
   },
   "file_extension": ".py",
   "mimetype": "text/x-python",
   "name": "python",
   "nbconvert_exporter": "python",
   "pygments_lexer": "ipython3",
   "version": "3.8.12"
  },
  "orig_nbformat": 4
 },
 "nbformat": 4,
 "nbformat_minor": 2
}
