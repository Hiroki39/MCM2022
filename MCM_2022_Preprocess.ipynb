{
 "cells": [
  {
   "cell_type": "code",
   "execution_count": 1,
   "metadata": {},
   "outputs": [],
   "source": [
    "import pandas as pd"
   ]
  },
  {
   "cell_type": "code",
   "execution_count": 2,
   "metadata": {},
   "outputs": [],
   "source": [
    "bchain_df = pd.read_csv(\"Data/BCHAIN-MKPRU.csv\")\n",
    "gold_df = pd.read_csv(\"Data/LBMA-GOLD.csv\")"
   ]
  },
  {
   "cell_type": "code",
   "execution_count": 3,
   "metadata": {},
   "outputs": [],
   "source": [
    "df_all = bchain_df.join(gold_df.set_index(\"Date\"), on=\"Date\")\n",
    "df_all[\"USD (PM)\"] = df_all[\"USD (PM)\"].interpolate(method=\"linear\")"
   ]
  },
  {
   "cell_type": "code",
   "execution_count": 4,
   "metadata": {},
   "outputs": [],
   "source": [
    "df_all[\"Bitcoin % Change\"] = (\n",
    "    df_all[\"Value\"] - df_all[\"Value\"].shift(1)) / df_all[\"Value\"].shift(1)\n",
    "df_all[\"Gold % Change\"] = (\n",
    "    df_all[\"USD (PM)\"] - df_all[\"USD (PM)\"].shift(1)) / df_all[\"USD (PM)\"].shift(1)\n"
   ]
  },
  {
   "cell_type": "code",
   "execution_count": 5,
   "metadata": {},
   "outputs": [],
   "source": [
    "df_all[\"Date\"] = pd.to_datetime(df_all[\"Date\"])"
   ]
  },
  {
   "cell_type": "code",
   "execution_count": 8,
   "metadata": {},
   "outputs": [],
   "source": [
    "df_all.to_csv(\"Data/preprocessed_data.csv\", index=False)"
   ]
  }
 ],
 "metadata": {
  "interpreter": {
   "hash": "40d3a090f54c6569ab1632332b64b2c03c39dcf918b08424e98f38b5ae0af88f"
  },
  "kernelspec": {
   "display_name": "Python 3.8.12 ('base')",
   "language": "python",
   "name": "python3"
  },
  "language_info": {
   "codemirror_mode": {
    "name": "ipython",
    "version": 3
   },
   "file_extension": ".py",
   "mimetype": "text/x-python",
   "name": "python",
   "nbconvert_exporter": "python",
   "pygments_lexer": "ipython3",
   "version": "3.8.12"
  },
  "orig_nbformat": 4
 },
 "nbformat": 4,
 "nbformat_minor": 2
}
